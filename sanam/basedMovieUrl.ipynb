{
 "cells": [
  {
   "cell_type": "code",
   "execution_count": 2,
   "metadata": {},
   "outputs": [],
   "source": [
    "import requests\n",
    "import time\n",
    "import pandas as pd\n",
    "from bs4 import BeautifulSoup"
   ]
  },
  {
   "cell_type": "code",
   "execution_count": 66,
   "metadata": {},
   "outputs": [],
   "source": [
    "# 인자로 들어가는 url 예시 \n",
    "# https://movie.naver.com/movie/bi/mi/basic.nhn?code=31794\n",
    "def getReview(url):\n",
    "    code = url[-6:]\n",
    "    if code[0] == '=':\n",
    "        code = code[1:]\n",
    "    base1 = 'https://movie.naver.com/movie/bi/mi/pointWriteFormList.nhn?code='\n",
    "    base2 = '&type=after&isActualPointWriteExecute=false&isMileageSubscriptionAlready=false&isMileageSubscriptionReject=false&page='\n",
    "    reviewUrl = base1 + code + base2\n",
    "    \n",
    "    # 총 리뷰 수\n",
    "    response = requests.get(reviewUrl.format(1))\n",
    "    soup = BeautifulSoup(response.text, 'html.parser')\n",
    "    numOfReviews = soup.find('div', {'class':'score_total'}).em.text\n",
    "    numOfReviews = \"\".join(c for c in numOfReviews if c != ',')\n",
    "    numOfReviews = int(numOfReviews)\n",
    "    \n",
    "    #  평점, 리뷰\n",
    "    def getData(url):\n",
    "        response = requests.get(url.format(1))\n",
    "        soup = BeautifulSoup(response.text, 'html.parser')\n",
    "        s, t = [], []\n",
    "        for li in soup.find('div', {'class':'score_result'}).find_all('li'):\n",
    "            s.append(int(li.em.text))\n",
    "            temp = \"\".join(c for c in li.p.text if c not in ['\\r', '\\n', '\\r'])\n",
    "            t.append(temp)\n",
    "        return s, t\n",
    "    \n",
    "    score, text = [], []\n",
    "    # 반복 횟 수\n",
    "    numIter = numOfReviews // 10 + numOfReviews % 10\n",
    "    for i in range(1, numIter):\n",
    "        s, t = getData(reviewUrl + str(i))\n",
    "        score += s\n",
    "        text += t\n",
    "        if i % 5 == 0:\n",
    "            print(\"{}페이지..\".format(i), end='\\r')\n",
    "    # csv 파일로 저장\n",
    "    df = pd.DataFrame([score, text]).T\n",
    "    df.columns = ['score', 'text']\n",
    "    df.to_csv(code + '.csv', encoding='ms949')    "
   ]
  },
  {
   "cell_type": "code",
   "execution_count": 63,
   "metadata": {},
   "outputs": [
    {
     "name": "stdout",
     "output_type": "stream",
     "text": [
      "10페이지..\r"
     ]
    }
   ],
   "source": [
    "getReview('https://movie.naver.com/movie/bi/mi/point.nhn?code=10011345')"
   ]
  },
  {
   "cell_type": "code",
   "execution_count": null,
   "metadata": {},
   "outputs": [],
   "source": []
  }
 ],
 "metadata": {
  "kernelspec": {
   "display_name": "Python 3",
   "language": "python",
   "name": "python3"
  },
  "language_info": {
   "codemirror_mode": {
    "name": "ipython",
    "version": 3
   },
   "file_extension": ".py",
   "mimetype": "text/x-python",
   "name": "python",
   "nbconvert_exporter": "python",
   "pygments_lexer": "ipython3",
   "version": "3.6.9"
  }
 },
 "nbformat": 4,
 "nbformat_minor": 4
}
