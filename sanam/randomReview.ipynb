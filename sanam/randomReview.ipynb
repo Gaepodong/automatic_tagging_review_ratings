{
 "cells": [
  {
   "cell_type": "code",
   "execution_count": 4,
   "metadata": {},
   "outputs": [],
   "source": [
    "import requests\n",
    "import time\n",
    "import pandas as pd\n",
    "from bs4 import BeautifulSoup\n",
    "import random"
   ]
  },
  {
   "cell_type": "code",
   "execution_count": 5,
   "metadata": {},
   "outputs": [],
   "source": [
    "def getData():\n",
    "    baseurl = 'https://movie.naver.com/movie/point/af/list.nhn?&page='\n",
    "    score, text = [], []\n",
    "    allPages = 1000\n",
    "    randomPages = random.sample(range(allPages), 30)\n",
    "    s, t = [], []\n",
    "    for page in randomPages:\n",
    "        url = baseurl + str(page)\n",
    "        response = requests.get(url.format(1))\n",
    "        soup = BeautifulSoup(response.text, 'html.parser')\n",
    "        temp = soup.find('tbody').find_all('td', {'class':'title'})\n",
    "        time.sleep( random.uniform(2,4) )\n",
    "        for td in soup.find('tbody').find_all('td', {'class':'title'}):\n",
    "            s.append(int(td.em.text))\n",
    "            unwanted = td.find('a')\n",
    "            unwanted.extract()\n",
    "            unwanted = td.find('div')\n",
    "            unwanted.extract()\n",
    "            unwanted = td.find('a')\n",
    "            unwanted.extract()\n",
    "            temp = td.text.replace('\\n','')\n",
    "            t.append(temp)\n",
    "        print(\"{} page\".format(page), end='\\r')\n",
    "    df = pd.DataFrame([s, t]).T\n",
    "    df.columns = ['score', 'text']\n",
    "    df.to_csv('random.csv', encoding='ms949')    \n",
    " "
   ]
  },
  {
   "cell_type": "code",
   "execution_count": 6,
   "metadata": {},
   "outputs": [
    {
     "name": "stdout",
     "output_type": "stream",
     "text": [
      "180 page\r"
     ]
    }
   ],
   "source": [
    "getData()"
   ]
  },
  {
   "cell_type": "code",
   "execution_count": null,
   "metadata": {},
   "outputs": [],
   "source": []
  },
  {
   "cell_type": "code",
   "execution_count": null,
   "metadata": {},
   "outputs": [],
   "source": []
  }
 ],
 "metadata": {
  "kernelspec": {
   "display_name": "Python 3",
   "language": "python",
   "name": "python3"
  },
  "language_info": {
   "codemirror_mode": {
    "name": "ipython",
    "version": 3
   },
   "file_extension": ".py",
   "mimetype": "text/x-python",
   "name": "python",
   "nbconvert_exporter": "python",
   "pygments_lexer": "ipython3",
   "version": "3.6.9"
  }
 },
 "nbformat": 4,
 "nbformat_minor": 4
}
