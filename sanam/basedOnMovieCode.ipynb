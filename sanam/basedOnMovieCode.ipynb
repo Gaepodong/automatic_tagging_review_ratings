{
 "cells": [
  {
   "cell_type": "code",
   "execution_count": 1,
   "metadata": {},
   "outputs": [],
   "source": [
    "import requests\n",
    "import time\n",
    "import pandas as pd\n",
    "import random\n",
    "from bs4 import BeautifulSoup"
   ]
  },
  {
   "cell_type": "code",
   "execution_count": 2,
   "metadata": {},
   "outputs": [],
   "source": [
    "def getPage(soup):\n",
    "    temp = \"\".join(c for c in soup.find('strong', {'class':'total'}).em.text if c not in [','])\n",
    "    total = int(temp) // 10 + 1\n",
    "    print(\"Total reviwes: {}, pages: {}\".format(temp, total))\n",
    "    return (total)"
   ]
  },
  {
   "cell_type": "code",
   "execution_count": 8,
   "metadata": {},
   "outputs": [],
   "source": [
    "def getData(movie_code):\n",
    "    base1 = 'https://movie.naver.com/movie/bi/mi/pointWriteFormList.nhn?code='\n",
    "    base2 = '&type=after&isActualPointWriteExecute=false&isMileageSubscriptionAlready=false&isMileageSubscriptionReject=false&page='\n",
    "    url = base1 + str(movie_code) + base2\n",
    "    \n",
    "    s, t = [], []\n",
    "    # movie code check\n",
    "    response = requests.get(url.format(1))\n",
    "    if response.status_code == 500:\n",
    "        return s, t\n",
    "    soup = BeautifulSoup(response.text, 'html.parser')\n",
    "    \n",
    "    # Check Before Opening\n",
    "    if soup.find('div', {'class':'no_score_info'}) != None:\n",
    "        return s, t\n",
    "    \n",
    "    # Get Page\n",
    "    pages = getPage(soup)\n",
    "    \n",
    "    # Iter till the end\n",
    "    for page in range(1, pages + 1):\n",
    "        u = url + str(page)\n",
    "        res = requests.get(u.format(1))\n",
    "        so = BeautifulSoup(res.text, 'html.parser')\n",
    "        \n",
    "        \n",
    "        # Get Score and Review\n",
    "        temp_s, temp_t = [], []\n",
    "        score_result = so.find('div', {'class':'score_result'})\n",
    "        for i, star in enumerate(score_result.find_all('li')):\n",
    "            temp_s.append(int(star.em.text))\n",
    "            ment = '_filtered_ment_' + str(i)            \n",
    "            temp = star.find('span', {'id':ment})\n",
    "            temp = temp.text.replace('\\n', '')\n",
    "            temp = temp.replace('\\t', '')\n",
    "            temp = temp.replace('\\r', '')\n",
    "            temp = temp.replace('\\xa0', '')\n",
    "            temp = temp.replace('\\xa9', '')\n",
    "            temp_t.append(temp)\n",
    "        s = s + temp_s\n",
    "        t = t + temp_t\n",
    "        \n",
    "        # sleep average 3s\n",
    "        time.sleep( random.uniform(2,4) )\n",
    "        print(\"page: {}...\".format(page), end=\"\\r\")\n",
    "    return s, t"
   ]
  },
  {
   "cell_type": "code",
   "execution_count": 9,
   "metadata": {},
   "outputs": [],
   "source": [
    "# -*- coding:utf-8 -*-\n",
    "def makeCsv(start, end):\n",
    "    while start <= end:\n",
    "        time.sleep(1)\n",
    "        s, t = [], []\n",
    "        temp_s, temp_t = getData(start)\n",
    "        s += temp_s\n",
    "        t += temp_t\n",
    "        \n",
    "        if len(s) < 5:\n",
    "            start += 1 \n",
    "            continue\n",
    "        else:\n",
    "            df = pd.DataFrame([s, t]).T\n",
    "            df.columns = ['score', 'review']\n",
    "            df.to_csv(str(start) + '.csv', encoding='cp949', index=False)\n",
    "            start += 1"
   ]
  },
  {
   "cell_type": "code",
   "execution_count": null,
   "metadata": {},
   "outputs": [
    {
     "name": "stdout",
     "output_type": "stream",
     "text": [
      "Total reviwes: 3808, pages: 381\n",
      "Total reviwes: 3094, pages: 310\n",
      "Total reviwes: 1011, pages: 102\n",
      "Total reviwes: 718, pages: 72\n",
      "Total reviwes: 929, pages: 93\n",
      "Total reviwes: 766, pages: 77\n",
      "Total reviwes: 721, pages: 73\n",
      "Total reviwes: 244, pages: 25\n",
      "Total reviwes: 118, pages: 12\n",
      "Total reviwes: 76, pages: 8\n",
      "Total reviwes: 877, pages: 88\n",
      "Total reviwes: 81, pages: 9\n",
      "Total reviwes: 103, pages: 11\n",
      "Total reviwes: 237, pages: 24\n",
      "Total reviwes: 4180, pages: 419\n",
      "Total reviwes: 45, pages: 5\n",
      "Total reviwes: 1123, pages: 113\n",
      "Total reviwes: 314, pages: 32\n",
      "Total reviwes: 1277, pages: 128\n",
      "Total reviwes: 1214, pages: 122\n",
      "Total reviwes: 373, pages: 38\n",
      "Total reviwes: 282, pages: 29\n",
      "Total reviwes: 310, pages: 32\n",
      "Total reviwes: 232, pages: 24\n",
      "Total reviwes: 148, pages: 15\n",
      "Total reviwes: 109, pages: 11\n",
      "Total reviwes: 1481, pages: 149\n",
      "Total reviwes: 608, pages: 61\n",
      "Total reviwes: 85, pages: 9\n",
      "Total reviwes: 588, pages: 59\n",
      "Total reviwes: 595, pages: 60\n",
      "Total reviwes: 739, pages: 74\n",
      "Total reviwes: 219, pages: 22\n",
      "Total reviwes: 1183, pages: 119\n",
      "Total reviwes: 1800, pages: 181\n",
      "Total reviwes: 831, pages: 84\n",
      "Total reviwes: 468, pages: 47\n",
      "Total reviwes: 260, pages: 27\n",
      "Total reviwes: 188, pages: 19\n",
      "Total reviwes: 76, pages: 8\n",
      "Total reviwes: 20, pages: 3\n",
      "Total reviwes: 198, pages: 20\n",
      "Total reviwes: 867, pages: 87\n",
      "Total reviwes: 332, pages: 34\n",
      "Total reviwes: 7124, pages: 713\n",
      "page: 571...\r"
     ]
    }
   ],
   "source": [
    "makeCsv(10001, 50000)"
   ]
  },
  {
   "cell_type": "code",
   "execution_count": null,
   "metadata": {},
   "outputs": [],
   "source": []
  }
 ],
 "metadata": {
  "kernelspec": {
   "display_name": "Python 3",
   "language": "python",
   "name": "python3"
  },
  "language_info": {
   "codemirror_mode": {
    "name": "ipython",
    "version": 3
   },
   "file_extension": ".py",
   "mimetype": "text/x-python",
   "name": "python",
   "nbconvert_exporter": "python",
   "pygments_lexer": "ipython3",
   "version": "3.6.9"
  }
 },
 "nbformat": 4,
 "nbformat_minor": 4
}
